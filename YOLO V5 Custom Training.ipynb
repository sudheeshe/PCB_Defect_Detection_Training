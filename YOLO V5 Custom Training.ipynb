{
 "cells": [
  {
   "cell_type": "markdown",
   "metadata": {
    "id": "j6kog3JUrXTJ"
   },
   "source": [
    "## Changing the current working Directory"
   ]
  },
  {
   "cell_type": "code",
   "execution_count": 48,
   "metadata": {
    "colab": {
     "base_uri": "https://localhost:8080/"
    },
    "executionInfo": {
     "elapsed": 592,
     "status": "ok",
     "timestamp": 1665857804338,
     "user": {
      "displayName": "Sudheesh E",
      "userId": "17406445785390498032"
     },
     "user_tz": -330
    },
    "id": "Cy2XT0wOdSzL",
    "outputId": "10485102-3c76-4dbc-9fdf-4458c185e509"
   },
   "outputs": [
    {
     "name": "stdout",
     "output_type": "stream",
     "text": [
      "/content/drive/MyDrive/PCB_Defect_Detection\n"
     ]
    }
   ],
   "source": [
    "%cd /content/drive/MyDrive/PCB_Defect_Detection"
   ]
  },
  {
   "cell_type": "code",
   "execution_count": 2,
   "metadata": {
    "colab": {
     "base_uri": "https://localhost:8080/"
    },
    "executionInfo": {
     "elapsed": 6,
     "status": "ok",
     "timestamp": 1665854781123,
     "user": {
      "displayName": "Sudheesh E",
      "userId": "17406445785390498032"
     },
     "user_tz": -330
    },
    "id": "z8wFKGd9roIG",
    "outputId": "b1a1a181-575e-48f0-bbed-f13137c09ecc"
   },
   "outputs": [
    {
     "name": "stdout",
     "output_type": "stream",
     "text": [
      "/content/drive/MyDrive/PCB_Defect_Detection\n"
     ]
    }
   ],
   "source": [
    "!pwd"
   ]
  },
  {
   "cell_type": "code",
   "execution_count": 33,
   "metadata": {
    "executionInfo": {
     "elapsed": 376,
     "status": "ok",
     "timestamp": 1665856062221,
     "user": {
      "displayName": "Sudheesh E",
      "userId": "17406445785390498032"
     },
     "user_tz": -330
    },
    "id": "Du6OD_fwtlBA"
   },
   "outputs": [],
   "source": [
    "base_path = r'/content/drive/MyDrive/PCB_Defect_Detection/'"
   ]
  },
  {
   "cell_type": "markdown",
   "metadata": {
    "id": "t7xVI8cJrfQT"
   },
   "source": [
    "# Cloning YOLOv5 repo"
   ]
  },
  {
   "cell_type": "code",
   "execution_count": 2,
   "metadata": {
    "colab": {
     "base_uri": "https://localhost:8080/"
    },
    "executionInfo": {
     "elapsed": 7301,
     "status": "ok",
     "timestamp": 1665851066674,
     "user": {
      "displayName": "Sudheesh E",
      "userId": "17406445785390498032"
     },
     "user_tz": -330
    },
    "id": "IgTzt_8xdAkl",
    "outputId": "ac22bd7f-ddc2-4fa1-c55c-04218337499e"
   },
   "outputs": [
    {
     "name": "stdout",
     "output_type": "stream",
     "text": [
      "Cloning into 'yolov5'...\n",
      "remote: Enumerating objects: 14080, done.\u001b[K\n",
      "remote: Counting objects: 100% (98/98), done.\u001b[K\n",
      "remote: Compressing objects: 100% (38/38), done.\u001b[K\n",
      "remote: Total 14080 (delta 66), reused 86 (delta 60), pack-reused 13982\u001b[K\n",
      "Receiving objects: 100% (14080/14080), 13.24 MiB | 7.42 MiB/s, done.\n",
      "Resolving deltas: 100% (9720/9720), done.\n",
      "/content/drive/MyDrive/PCB_Defect_Detection/yolov5\n",
      "HEAD is now at fbe67e4 Fix `OMP_NUM_THREADS=1` for macOS (#8624)\n"
     ]
    }
   ],
   "source": [
    "# clone YOLOv5 repository\n",
    "!git clone https://github.com/ultralytics/yolov5  # clone repo\n",
    "%cd yolov5\n",
    "!git reset --hard fbe67e465375231474a2ad80a4389efc77ecff99"
   ]
  },
  {
   "cell_type": "markdown",
   "metadata": {
    "id": "WGBJ_a_4rwzc"
   },
   "source": [
    "# Install dependencies as necessary"
   ]
  },
  {
   "cell_type": "code",
   "execution_count": 3,
   "metadata": {
    "colab": {
     "base_uri": "https://localhost:8080/"
    },
    "executionInfo": {
     "elapsed": 7554,
     "status": "ok",
     "timestamp": 1665851084116,
     "user": {
      "displayName": "Sudheesh E",
      "userId": "17406445785390498032"
     },
     "user_tz": -330
    },
    "id": "HHnKm7yodhoS",
    "outputId": "b96bf85f-55ab-481d-ea00-4eb72652b8a7"
   },
   "outputs": [
    {
     "name": "stdout",
     "output_type": "stream",
     "text": [
      "\u001b[?25l\r",
      "\u001b[K     |▏                               | 10 kB 32.3 MB/s eta 0:00:01\r",
      "\u001b[K     |▍                               | 20 kB 38.0 MB/s eta 0:00:01\r",
      "\u001b[K     |▋                               | 30 kB 46.4 MB/s eta 0:00:01\r",
      "\u001b[K     |▉                               | 40 kB 49.8 MB/s eta 0:00:01\r",
      "\u001b[K     |█                               | 51 kB 52.5 MB/s eta 0:00:01\r",
      "\u001b[K     |█▎                              | 61 kB 57.3 MB/s eta 0:00:01\r",
      "\u001b[K     |█▌                              | 71 kB 42.8 MB/s eta 0:00:01\r",
      "\u001b[K     |█▊                              | 81 kB 43.8 MB/s eta 0:00:01\r",
      "\u001b[K     |█▉                              | 92 kB 46.4 MB/s eta 0:00:01\r",
      "\u001b[K     |██                              | 102 kB 48.0 MB/s eta 0:00:01\r",
      "\u001b[K     |██▎                             | 112 kB 48.0 MB/s eta 0:00:01\r",
      "\u001b[K     |██▌                             | 122 kB 48.0 MB/s eta 0:00:01\r",
      "\u001b[K     |██▊                             | 133 kB 48.0 MB/s eta 0:00:01\r",
      "\u001b[K     |███                             | 143 kB 48.0 MB/s eta 0:00:01\r",
      "\u001b[K     |███▏                            | 153 kB 48.0 MB/s eta 0:00:01\r",
      "\u001b[K     |███▍                            | 163 kB 48.0 MB/s eta 0:00:01\r",
      "\u001b[K     |███▌                            | 174 kB 48.0 MB/s eta 0:00:01\r",
      "\u001b[K     |███▊                            | 184 kB 48.0 MB/s eta 0:00:01\r",
      "\u001b[K     |████                            | 194 kB 48.0 MB/s eta 0:00:01\r",
      "\u001b[K     |████▏                           | 204 kB 48.0 MB/s eta 0:00:01\r",
      "\u001b[K     |████▍                           | 215 kB 48.0 MB/s eta 0:00:01\r",
      "\u001b[K     |████▋                           | 225 kB 48.0 MB/s eta 0:00:01\r",
      "\u001b[K     |████▉                           | 235 kB 48.0 MB/s eta 0:00:01\r",
      "\u001b[K     |█████                           | 245 kB 48.0 MB/s eta 0:00:01\r",
      "\u001b[K     |█████▎                          | 256 kB 48.0 MB/s eta 0:00:01\r",
      "\u001b[K     |█████▍                          | 266 kB 48.0 MB/s eta 0:00:01\r",
      "\u001b[K     |█████▋                          | 276 kB 48.0 MB/s eta 0:00:01\r",
      "\u001b[K     |█████▉                          | 286 kB 48.0 MB/s eta 0:00:01\r",
      "\u001b[K     |██████                          | 296 kB 48.0 MB/s eta 0:00:01\r",
      "\u001b[K     |██████▎                         | 307 kB 48.0 MB/s eta 0:00:01\r",
      "\u001b[K     |██████▌                         | 317 kB 48.0 MB/s eta 0:00:01\r",
      "\u001b[K     |██████▊                         | 327 kB 48.0 MB/s eta 0:00:01\r",
      "\u001b[K     |███████                         | 337 kB 48.0 MB/s eta 0:00:01\r",
      "\u001b[K     |███████                         | 348 kB 48.0 MB/s eta 0:00:01\r",
      "\u001b[K     |███████▎                        | 358 kB 48.0 MB/s eta 0:00:01\r",
      "\u001b[K     |███████▌                        | 368 kB 48.0 MB/s eta 0:00:01\r",
      "\u001b[K     |███████▊                        | 378 kB 48.0 MB/s eta 0:00:01\r",
      "\u001b[K     |████████                        | 389 kB 48.0 MB/s eta 0:00:01\r",
      "\u001b[K     |████████▏                       | 399 kB 48.0 MB/s eta 0:00:01\r",
      "\u001b[K     |████████▍                       | 409 kB 48.0 MB/s eta 0:00:01\r",
      "\u001b[K     |████████▋                       | 419 kB 48.0 MB/s eta 0:00:01\r",
      "\u001b[K     |████████▉                       | 430 kB 48.0 MB/s eta 0:00:01\r",
      "\u001b[K     |█████████                       | 440 kB 48.0 MB/s eta 0:00:01\r",
      "\u001b[K     |█████████▏                      | 450 kB 48.0 MB/s eta 0:00:01\r",
      "\u001b[K     |█████████▍                      | 460 kB 48.0 MB/s eta 0:00:01\r",
      "\u001b[K     |█████████▋                      | 471 kB 48.0 MB/s eta 0:00:01\r",
      "\u001b[K     |█████████▉                      | 481 kB 48.0 MB/s eta 0:00:01\r",
      "\u001b[K     |██████████                      | 491 kB 48.0 MB/s eta 0:00:01\r",
      "\u001b[K     |██████████▎                     | 501 kB 48.0 MB/s eta 0:00:01\r",
      "\u001b[K     |██████████▌                     | 512 kB 48.0 MB/s eta 0:00:01\r",
      "\u001b[K     |██████████▋                     | 522 kB 48.0 MB/s eta 0:00:01\r",
      "\u001b[K     |██████████▉                     | 532 kB 48.0 MB/s eta 0:00:01\r",
      "\u001b[K     |███████████                     | 542 kB 48.0 MB/s eta 0:00:01\r",
      "\u001b[K     |███████████▎                    | 552 kB 48.0 MB/s eta 0:00:01\r",
      "\u001b[K     |███████████▌                    | 563 kB 48.0 MB/s eta 0:00:01\r",
      "\u001b[K     |███████████▊                    | 573 kB 48.0 MB/s eta 0:00:01\r",
      "\u001b[K     |████████████                    | 583 kB 48.0 MB/s eta 0:00:01\r",
      "\u001b[K     |████████████▏                   | 593 kB 48.0 MB/s eta 0:00:01\r",
      "\u001b[K     |████████████▍                   | 604 kB 48.0 MB/s eta 0:00:01\r",
      "\u001b[K     |████████████▌                   | 614 kB 48.0 MB/s eta 0:00:01\r",
      "\u001b[K     |████████████▊                   | 624 kB 48.0 MB/s eta 0:00:01\r",
      "\u001b[K     |█████████████                   | 634 kB 48.0 MB/s eta 0:00:01\r",
      "\u001b[K     |█████████████▏                  | 645 kB 48.0 MB/s eta 0:00:01\r",
      "\u001b[K     |█████████████▍                  | 655 kB 48.0 MB/s eta 0:00:01\r",
      "\u001b[K     |█████████████▋                  | 665 kB 48.0 MB/s eta 0:00:01\r",
      "\u001b[K     |█████████████▉                  | 675 kB 48.0 MB/s eta 0:00:01\r",
      "\u001b[K     |██████████████                  | 686 kB 48.0 MB/s eta 0:00:01\r",
      "\u001b[K     |██████████████▏                 | 696 kB 48.0 MB/s eta 0:00:01\r",
      "\u001b[K     |██████████████▍                 | 706 kB 48.0 MB/s eta 0:00:01\r",
      "\u001b[K     |██████████████▋                 | 716 kB 48.0 MB/s eta 0:00:01\r",
      "\u001b[K     |██████████████▉                 | 727 kB 48.0 MB/s eta 0:00:01\r",
      "\u001b[K     |███████████████                 | 737 kB 48.0 MB/s eta 0:00:01\r",
      "\u001b[K     |███████████████▎                | 747 kB 48.0 MB/s eta 0:00:01\r",
      "\u001b[K     |███████████████▌                | 757 kB 48.0 MB/s eta 0:00:01\r",
      "\u001b[K     |███████████████▊                | 768 kB 48.0 MB/s eta 0:00:01\r",
      "\u001b[K     |████████████████                | 778 kB 48.0 MB/s eta 0:00:01\r",
      "\u001b[K     |████████████████                | 788 kB 48.0 MB/s eta 0:00:01\r",
      "\u001b[K     |████████████████▎               | 798 kB 48.0 MB/s eta 0:00:01\r",
      "\u001b[K     |████████████████▌               | 808 kB 48.0 MB/s eta 0:00:01\r",
      "\u001b[K     |████████████████▊               | 819 kB 48.0 MB/s eta 0:00:01\r",
      "\u001b[K     |█████████████████               | 829 kB 48.0 MB/s eta 0:00:01\r",
      "\u001b[K     |█████████████████▏              | 839 kB 48.0 MB/s eta 0:00:01\r",
      "\u001b[K     |█████████████████▍              | 849 kB 48.0 MB/s eta 0:00:01\r",
      "\u001b[K     |█████████████████▋              | 860 kB 48.0 MB/s eta 0:00:01\r",
      "\u001b[K     |█████████████████▊              | 870 kB 48.0 MB/s eta 0:00:01\r",
      "\u001b[K     |██████████████████              | 880 kB 48.0 MB/s eta 0:00:01\r",
      "\u001b[K     |██████████████████▏             | 890 kB 48.0 MB/s eta 0:00:01\r",
      "\u001b[K     |██████████████████▍             | 901 kB 48.0 MB/s eta 0:00:01\r",
      "\u001b[K     |██████████████████▋             | 911 kB 48.0 MB/s eta 0:00:01\r",
      "\u001b[K     |██████████████████▉             | 921 kB 48.0 MB/s eta 0:00:01\r",
      "\u001b[K     |███████████████████             | 931 kB 48.0 MB/s eta 0:00:01\r",
      "\u001b[K     |███████████████████▎            | 942 kB 48.0 MB/s eta 0:00:01\r",
      "\u001b[K     |███████████████████▌            | 952 kB 48.0 MB/s eta 0:00:01\r",
      "\u001b[K     |███████████████████▋            | 962 kB 48.0 MB/s eta 0:00:01\r",
      "\u001b[K     |███████████████████▉            | 972 kB 48.0 MB/s eta 0:00:01\r",
      "\u001b[K     |████████████████████            | 983 kB 48.0 MB/s eta 0:00:01\r",
      "\u001b[K     |████████████████████▎           | 993 kB 48.0 MB/s eta 0:00:01\r",
      "\u001b[K     |████████████████████▌           | 1.0 MB 48.0 MB/s eta 0:00:01\r",
      "\u001b[K     |████████████████████▊           | 1.0 MB 48.0 MB/s eta 0:00:01\r",
      "\u001b[K     |█████████████████████           | 1.0 MB 48.0 MB/s eta 0:00:01\r",
      "\u001b[K     |█████████████████████▏          | 1.0 MB 48.0 MB/s eta 0:00:01\r",
      "\u001b[K     |█████████████████████▎          | 1.0 MB 48.0 MB/s eta 0:00:01\r",
      "\u001b[K     |█████████████████████▌          | 1.1 MB 48.0 MB/s eta 0:00:01\r",
      "\u001b[K     |█████████████████████▊          | 1.1 MB 48.0 MB/s eta 0:00:01\r",
      "\u001b[K     |██████████████████████          | 1.1 MB 48.0 MB/s eta 0:00:01\r",
      "\u001b[K     |██████████████████████▏         | 1.1 MB 48.0 MB/s eta 0:00:01\r",
      "\u001b[K     |██████████████████████▍         | 1.1 MB 48.0 MB/s eta 0:00:01\r",
      "\u001b[K     |██████████████████████▋         | 1.1 MB 48.0 MB/s eta 0:00:01\r",
      "\u001b[K     |██████████████████████▉         | 1.1 MB 48.0 MB/s eta 0:00:01\r",
      "\u001b[K     |███████████████████████         | 1.1 MB 48.0 MB/s eta 0:00:01\r",
      "\u001b[K     |███████████████████████▏        | 1.1 MB 48.0 MB/s eta 0:00:01\r",
      "\u001b[K     |███████████████████████▍        | 1.1 MB 48.0 MB/s eta 0:00:01\r",
      "\u001b[K     |███████████████████████▋        | 1.2 MB 48.0 MB/s eta 0:00:01\r",
      "\u001b[K     |███████████████████████▉        | 1.2 MB 48.0 MB/s eta 0:00:01\r",
      "\u001b[K     |████████████████████████        | 1.2 MB 48.0 MB/s eta 0:00:01\r",
      "\u001b[K     |████████████████████████▎       | 1.2 MB 48.0 MB/s eta 0:00:01\r",
      "\u001b[K     |████████████████████████▌       | 1.2 MB 48.0 MB/s eta 0:00:01\r",
      "\u001b[K     |████████████████████████▊       | 1.2 MB 48.0 MB/s eta 0:00:01\r",
      "\u001b[K     |████████████████████████▉       | 1.2 MB 48.0 MB/s eta 0:00:01\r",
      "\u001b[K     |█████████████████████████       | 1.2 MB 48.0 MB/s eta 0:00:01\r",
      "\u001b[K     |█████████████████████████▎      | 1.2 MB 48.0 MB/s eta 0:00:01\r",
      "\u001b[K     |█████████████████████████▌      | 1.2 MB 48.0 MB/s eta 0:00:01\r",
      "\u001b[K     |█████████████████████████▊      | 1.3 MB 48.0 MB/s eta 0:00:01\r",
      "\u001b[K     |██████████████████████████      | 1.3 MB 48.0 MB/s eta 0:00:01\r",
      "\u001b[K     |██████████████████████████▏     | 1.3 MB 48.0 MB/s eta 0:00:01\r",
      "\u001b[K     |██████████████████████████▍     | 1.3 MB 48.0 MB/s eta 0:00:01\r",
      "\u001b[K     |██████████████████████████▌     | 1.3 MB 48.0 MB/s eta 0:00:01\r",
      "\u001b[K     |██████████████████████████▊     | 1.3 MB 48.0 MB/s eta 0:00:01\r",
      "\u001b[K     |███████████████████████████     | 1.3 MB 48.0 MB/s eta 0:00:01\r",
      "\u001b[K     |███████████████████████████▏    | 1.3 MB 48.0 MB/s eta 0:00:01\r",
      "\u001b[K     |███████████████████████████▍    | 1.3 MB 48.0 MB/s eta 0:00:01\r",
      "\u001b[K     |███████████████████████████▋    | 1.4 MB 48.0 MB/s eta 0:00:01\r",
      "\u001b[K     |███████████████████████████▉    | 1.4 MB 48.0 MB/s eta 0:00:01\r",
      "\u001b[K     |████████████████████████████    | 1.4 MB 48.0 MB/s eta 0:00:01\r",
      "\u001b[K     |████████████████████████████▎   | 1.4 MB 48.0 MB/s eta 0:00:01\r",
      "\u001b[K     |████████████████████████████▍   | 1.4 MB 48.0 MB/s eta 0:00:01\r",
      "\u001b[K     |████████████████████████████▋   | 1.4 MB 48.0 MB/s eta 0:00:01\r",
      "\u001b[K     |████████████████████████████▉   | 1.4 MB 48.0 MB/s eta 0:00:01\r",
      "\u001b[K     |█████████████████████████████   | 1.4 MB 48.0 MB/s eta 0:00:01\r",
      "\u001b[K     |█████████████████████████████▎  | 1.4 MB 48.0 MB/s eta 0:00:01\r",
      "\u001b[K     |█████████████████████████████▌  | 1.4 MB 48.0 MB/s eta 0:00:01\r",
      "\u001b[K     |█████████████████████████████▊  | 1.5 MB 48.0 MB/s eta 0:00:01\r",
      "\u001b[K     |██████████████████████████████  | 1.5 MB 48.0 MB/s eta 0:00:01\r",
      "\u001b[K     |██████████████████████████████  | 1.5 MB 48.0 MB/s eta 0:00:01\r",
      "\u001b[K     |██████████████████████████████▎ | 1.5 MB 48.0 MB/s eta 0:00:01\r",
      "\u001b[K     |██████████████████████████████▌ | 1.5 MB 48.0 MB/s eta 0:00:01\r",
      "\u001b[K     |██████████████████████████████▊ | 1.5 MB 48.0 MB/s eta 0:00:01\r",
      "\u001b[K     |███████████████████████████████ | 1.5 MB 48.0 MB/s eta 0:00:01\r",
      "\u001b[K     |███████████████████████████████▏| 1.5 MB 48.0 MB/s eta 0:00:01\r",
      "\u001b[K     |███████████████████████████████▍| 1.5 MB 48.0 MB/s eta 0:00:01\r",
      "\u001b[K     |███████████████████████████████▋| 1.5 MB 48.0 MB/s eta 0:00:01\r",
      "\u001b[K     |███████████████████████████████▉| 1.6 MB 48.0 MB/s eta 0:00:01\r",
      "\u001b[K     |████████████████████████████████| 1.6 MB 48.0 MB/s eta 0:00:01\r",
      "\u001b[K     |████████████████████████████████| 1.6 MB 48.0 MB/s \n",
      "\u001b[?25hSetup complete. Using torch 1.12.1+cu113 _CudaDeviceProperties(name='Tesla T4', major=7, minor=5, total_memory=15109MB, multi_processor_count=40)\n"
     ]
    }
   ],
   "source": [
    "!pip install -qr requirements.txt  # install dependencies (ignore errors)\n",
    "import torch\n",
    "\n",
    "from IPython.display import Image, clear_output  # to display images\n",
    "from utils.downloads import attempt_download  # to download models/datasets\n",
    "\n",
    "# clear_output()\n",
    "print('Setup complete. Using torch %s %s' % (torch.__version__, torch.cuda.get_device_properties(0) if torch.cuda.is_available() else 'CPU'))"
   ]
  },
  {
   "cell_type": "markdown",
   "metadata": {
    "id": "xN9g2FnCsKMX"
   },
   "source": [
    "# Let's look at our training environment and GPU provided"
   ]
  },
  {
   "cell_type": "code",
   "execution_count": 4,
   "metadata": {
    "colab": {
     "base_uri": "https://localhost:8080/"
    },
    "executionInfo": {
     "elapsed": 5,
     "status": "ok",
     "timestamp": 1665851087703,
     "user": {
      "displayName": "Sudheesh E",
      "userId": "17406445785390498032"
     },
     "user_tz": -330
    },
    "id": "5JjKSCH0diFA",
    "outputId": "a0c99280-8222-4a2f-c3bc-47ec85041836"
   },
   "outputs": [
    {
     "name": "stdout",
     "output_type": "stream",
     "text": [
      "torch 1.12.1+cu113 _CudaDeviceProperties(name='Tesla T4', major=7, minor=5, total_memory=15109MB, multi_processor_count=40)\n"
     ]
    }
   ],
   "source": [
    "import torch\n",
    "from IPython.display import Image  # for displaying images\n",
    "from utils.downloads import gdrive_download  # for downloading models/datasets\n",
    "print('torch %s %s' % (torch.__version__, torch.cuda.get_device_properties(0) if torch.cuda.is_available() else 'CPU'))"
   ]
  },
  {
   "cell_type": "code",
   "execution_count": 5,
   "metadata": {
    "colab": {
     "base_uri": "https://localhost:8080/"
    },
    "executionInfo": {
     "elapsed": 14330,
     "status": "ok",
     "timestamp": 1665851117743,
     "user": {
      "displayName": "Sudheesh E",
      "userId": "17406445785390498032"
     },
     "user_tz": -330
    },
    "id": "2TeixzRadoty",
    "outputId": "ccc48aa2-f8e8-4a3f-c1a7-807a5399c298"
   },
   "outputs": [
    {
     "name": "stdout",
     "output_type": "stream",
     "text": [
      "\u001b[K     |████████████████████████████████| 54 kB 1.9 MB/s \n",
      "\u001b[K     |████████████████████████████████| 138 kB 42.4 MB/s \n",
      "\u001b[K     |████████████████████████████████| 67 kB 6.0 MB/s \n",
      "\u001b[K     |████████████████████████████████| 178 kB 61.5 MB/s \n",
      "\u001b[K     |████████████████████████████████| 145 kB 70.1 MB/s \n",
      "\u001b[K     |████████████████████████████████| 1.1 MB 58.6 MB/s \n",
      "\u001b[K     |████████████████████████████████| 62 kB 1.3 MB/s \n",
      "\u001b[?25h  Building wheel for wget (setup.py) ... \u001b[?25l\u001b[?25hdone\n",
      "upload and label your dataset, and get an API KEY here: https://app.roboflow.com/?model=yolov5&ref=roboflow-yolov5\n"
     ]
    }
   ],
   "source": [
    "#follow the link below to get your download code from from Roboflow\n",
    "!pip install -q roboflow\n",
    "from roboflow import Roboflow\n",
    "rf = Roboflow(model_format=\"yolov5\", notebook=\"roboflow-yolov5\")"
   ]
  },
  {
   "cell_type": "markdown",
   "metadata": {
    "id": "EvkFZkOmskCs"
   },
   "source": [
    "# Let's see the data.yml content"
   ]
  },
  {
   "cell_type": "code",
   "execution_count": 49,
   "metadata": {
    "colab": {
     "base_uri": "https://localhost:8080/",
     "height": 36
    },
    "executionInfo": {
     "elapsed": 402,
     "status": "ok",
     "timestamp": 1665857831538,
     "user": {
      "displayName": "Sudheesh E",
      "userId": "17406445785390498032"
     },
     "user_tz": -330
    },
    "id": "WjtFHE_ytvUf",
    "outputId": "8987eccc-08ae-4bca-b057-4f1060b41a86"
   },
   "outputs": [
    {
     "data": {
      "application/vnd.google.colaboratory.intrinsic+json": {
       "type": "string"
      },
      "text/plain": [
       "'/content/drive/MyDrive/PCB_Defect_Detection/data.yaml'"
      ]
     },
     "execution_count": 49,
     "metadata": {},
     "output_type": "execute_result"
    }
   ],
   "source": [
    "base_path + 'data.yaml'"
   ]
  },
  {
   "cell_type": "code",
   "execution_count": 50,
   "metadata": {
    "colab": {
     "base_uri": "https://localhost:8080/"
    },
    "executionInfo": {
     "elapsed": 375,
     "status": "ok",
     "timestamp": 1665857834673,
     "user": {
      "displayName": "Sudheesh E",
      "userId": "17406445785390498032"
     },
     "user_tz": -330
    },
    "id": "BhRPt3zJdpJ6",
    "outputId": "08ac8ab6-7291-4e6d-b1e4-1c9358703846"
   },
   "outputs": [
    {
     "name": "stdout",
     "output_type": "stream",
     "text": [
      "cat: base_path: No such file or directory\n",
      "cat: +: No such file or directory\n",
      "names:\n",
      "- missing_hole\n",
      "- mouse_bite\n",
      "- open_circuit\n",
      "- short\n",
      "- spur\n",
      "- spurious_copper\n",
      "nc: 6\n",
      "train: /content/drive/MyDrive/PCB_Defect_Detection/train/images\n",
      "val: /content/drive/MyDrive/PCB_Defect_Detection/val/images\n"
     ]
    }
   ],
   "source": [
    "%cat base_path + 'data.yaml'"
   ]
  },
  {
   "cell_type": "markdown",
   "metadata": {
    "id": "RGtzObdmtDsv"
   },
   "source": [
    "# Lets get the number of class from data.yml file"
   ]
  },
  {
   "cell_type": "code",
   "execution_count": 3,
   "metadata": {
    "executionInfo": {
     "elapsed": 1068,
     "status": "ok",
     "timestamp": 1665855084624,
     "user": {
      "displayName": "Sudheesh E",
      "userId": "17406445785390498032"
     },
     "user_tz": -330
    },
    "id": "yQAQByIPetqQ"
   },
   "outputs": [],
   "source": [
    "data_yml_path = base_path + 'data.yaml'\n",
    "\n",
    "\n",
    "# define number of classes based on YAML\n",
    "import yaml\n",
    "with open(data_yml_path, 'r') as stream:\n",
    "    num_classes = str(yaml.safe_load(stream)['nc'])"
   ]
  },
  {
   "cell_type": "code",
   "execution_count": 4,
   "metadata": {
    "colab": {
     "base_uri": "https://localhost:8080/",
     "height": 36
    },
    "executionInfo": {
     "elapsed": 404,
     "status": "ok",
     "timestamp": 1665855086935,
     "user": {
      "displayName": "Sudheesh E",
      "userId": "17406445785390498032"
     },
     "user_tz": -330
    },
    "id": "4Cb-4IqyeuFs",
    "outputId": "c2cceb48-01e0-4824-85cf-2af6b4436459"
   },
   "outputs": [
    {
     "data": {
      "application/vnd.google.colaboratory.intrinsic+json": {
       "type": "string"
      },
      "text/plain": [
       "'6'"
      ]
     },
     "execution_count": 4,
     "metadata": {},
     "output_type": "execute_result"
    }
   ],
   "source": [
    "num_classes"
   ]
  },
  {
   "cell_type": "markdown",
   "metadata": {
    "id": "_4jpiZDutK9g"
   },
   "source": [
    "# Let's write the number of class in `yolo small` model `yaml file`"
   ]
  },
  {
   "cell_type": "code",
   "execution_count": 11,
   "metadata": {
    "colab": {
     "base_uri": "https://localhost:8080/"
    },
    "executionInfo": {
     "elapsed": 1042,
     "status": "ok",
     "timestamp": 1665855457457,
     "user": {
      "displayName": "Sudheesh E",
      "userId": "17406445785390498032"
     },
     "user_tz": -330
    },
    "id": "i3ZlzXWke30L",
    "outputId": "da844fbe-a492-475d-b87a-98f57797f488"
   },
   "outputs": [
    {
     "name": "stdout",
     "output_type": "stream",
     "text": [
      "cat: base_path: No such file or directory\n",
      "cat: +: No such file or directory\n",
      "# YOLOv5 🚀 by Ultralytics, GPL-3.0 license\n",
      "\n",
      "# Parameters\n",
      "nc: 80  # number of classes\n",
      "depth_multiple: 0.33  # model depth multiple\n",
      "width_multiple: 0.50  # layer channel multiple\n",
      "anchors:\n",
      "  - [10,13, 16,30, 33,23]  # P3/8\n",
      "  - [30,61, 62,45, 59,119]  # P4/16\n",
      "  - [116,90, 156,198, 373,326]  # P5/32\n",
      "\n",
      "# YOLOv5 v6.0 backbone\n",
      "backbone:\n",
      "  # [from, number, module, args]\n",
      "  [[-1, 1, Conv, [64, 6, 2, 2]],  # 0-P1/2\n",
      "   [-1, 1, Conv, [128, 3, 2]],  # 1-P2/4\n",
      "   [-1, 3, C3, [128]],\n",
      "   [-1, 1, Conv, [256, 3, 2]],  # 3-P3/8\n",
      "   [-1, 6, C3, [256]],\n",
      "   [-1, 1, Conv, [512, 3, 2]],  # 5-P4/16\n",
      "   [-1, 9, C3, [512]],\n",
      "   [-1, 1, Conv, [1024, 3, 2]],  # 7-P5/32\n",
      "   [-1, 3, C3, [1024]],\n",
      "   [-1, 1, SPPF, [1024, 5]],  # 9\n",
      "  ]\n",
      "\n",
      "# YOLOv5 v6.0 head\n",
      "head:\n",
      "  [[-1, 1, Conv, [512, 1, 1]],\n",
      "   [-1, 1, nn.Upsample, [None, 2, 'nearest']],\n",
      "   [[-1, 6], 1, Concat, [1]],  # cat backbone P4\n",
      "   [-1, 3, C3, [512, False]],  # 13\n",
      "\n",
      "   [-1, 1, Conv, [256, 1, 1]],\n",
      "   [-1, 1, nn.Upsample, [None, 2, 'nearest']],\n",
      "   [[-1, 4], 1, Concat, [1]],  # cat backbone P3\n",
      "   [-1, 3, C3, [256, False]],  # 17 (P3/8-small)\n",
      "\n",
      "   [-1, 1, Conv, [256, 3, 2]],\n",
      "   [[-1, 14], 1, Concat, [1]],  # cat head P4\n",
      "   [-1, 3, C3, [512, False]],  # 20 (P4/16-medium)\n",
      "\n",
      "   [-1, 1, Conv, [512, 3, 2]],\n",
      "   [[-1, 10], 1, Concat, [1]],  # cat head P5\n",
      "   [-1, 3, C3, [1024, False]],  # 23 (P5/32-large)\n",
      "\n",
      "   [[17, 20, 23], 1, Detect, [nc, anchors]],  # Detect(P3, P4, P5)\n",
      "  ]\n"
     ]
    }
   ],
   "source": [
    "#this is the model configuration we will use for our tutorial \n",
    "%cat base_path + 'yolov5/models/yolov5s.yaml'"
   ]
  },
  {
   "cell_type": "markdown",
   "metadata": {
    "id": "ETm-dbAdxQX2"
   },
   "source": [
    "# This helps to write the number of classes to custom yaml file"
   ]
  },
  {
   "cell_type": "code",
   "execution_count": 12,
   "metadata": {
    "executionInfo": {
     "elapsed": 400,
     "status": "ok",
     "timestamp": 1665855505274,
     "user": {
      "displayName": "Sudheesh E",
      "userId": "17406445785390498032"
     },
     "user_tz": -330
    },
    "id": "3ZXbp6iCfDzI"
   },
   "outputs": [],
   "source": [
    "#customize iPython writefile so we can write variables\n",
    "\n",
    "from IPython.core.magic import register_line_cell_magic\n",
    "\n",
    "@register_line_cell_magic\n",
    "def writetemplate(line, cell):\n",
    "    with open(line, 'w') as f:\n",
    "        f.write(cell.format(**globals()))"
   ]
  },
  {
   "cell_type": "code",
   "execution_count": 27,
   "metadata": {
    "executionInfo": {
     "elapsed": 635,
     "status": "ok",
     "timestamp": 1665855931112,
     "user": {
      "displayName": "Sudheesh E",
      "userId": "17406445785390498032"
     },
     "user_tz": -330
    },
    "id": "0BP46ux4fET4"
   },
   "outputs": [],
   "source": [
    "# location to save custom_yolov5s.yaml\n",
    "\n",
    "%%writetemplate /content/drive/MyDrive/PCB_Defect_Detection/yolov5/models/custom_yolov5s.yaml\n",
    "\n",
    "\n",
    "\n",
    "# parameters\n",
    "nc: {num_classes}  # number of classes\n",
    "depth_multiple: 0.33  # model depth multiple\n",
    "width_multiple: 0.50  # layer channel multiple\n",
    "\n",
    "# anchors\n",
    "anchors:\n",
    "  - [10,13, 16,30, 33,23]  # P3/8\n",
    "  - [30,61, 62,45, 59,119]  # P4/16\n",
    "  - [116,90, 156,198, 373,326]  # P5/32\n",
    "\n",
    "# YOLOv5 backbone\n",
    "backbone:\n",
    "  # [from, number, module, args]\n",
    "  [[-1, 1, Focus, [64, 3]],  # 0-P1/2\n",
    "   [-1, 1, Conv, [128, 3, 2]],  # 1-P2/4\n",
    "   [-1, 3, BottleneckCSP, [128]],\n",
    "   [-1, 1, Conv, [256, 3, 2]],  # 3-P3/8\n",
    "   [-1, 9, BottleneckCSP, [256]],\n",
    "   [-1, 1, Conv, [512, 3, 2]],  # 5-P4/16\n",
    "   [-1, 9, BottleneckCSP, [512]],\n",
    "   [-1, 1, Conv, [1024, 3, 2]],  # 7-P5/32\n",
    "   [-1, 1, SPP, [1024, [5, 9, 13]]],\n",
    "   [-1, 3, BottleneckCSP, [1024, False]],  # 9\n",
    "  ]\n",
    "\n",
    "# YOLOv5 head\n",
    "head:\n",
    "  [[-1, 1, Conv, [512, 1, 1]],\n",
    "   [-1, 1, nn.Upsample, [None, 2, 'nearest']],\n",
    "   [[-1, 6], 1, Concat, [1]],  # cat backbone P4\n",
    "   [-1, 3, BottleneckCSP, [512, False]],  # 13\n",
    "\n",
    "   [-1, 1, Conv, [256, 1, 1]],\n",
    "   [-1, 1, nn.Upsample, [None, 2, 'nearest']],\n",
    "   [[-1, 4], 1, Concat, [1]],  # cat backbone P3\n",
    "   [-1, 3, BottleneckCSP, [256, False]],  # 17 (P3/8-small)\n",
    "\n",
    "   [-1, 1, Conv, [256, 3, 2]],\n",
    "   [[-1, 14], 1, Concat, [1]],  # cat head P4\n",
    "   [-1, 3, BottleneckCSP, [512, False]],  # 20 (P4/16-medium)\n",
    "\n",
    "   [-1, 1, Conv, [512, 3, 2]],\n",
    "   [[-1, 10], 1, Concat, [1]],  # cat head P5\n",
    "   [-1, 3, BottleneckCSP, [1024, False]],  # 23 (P5/32-large)\n",
    "\n",
    "   [[17, 20, 23], 1, Detect, [nc, anchors]],  # Detect(P3, P4, P5)\n",
    "  ]"
   ]
  },
  {
   "cell_type": "markdown",
   "metadata": {
    "id": "dzdrQaDAzJSJ"
   },
   "source": [
    "# Train Custom YOLOv5 Detector"
   ]
  },
  {
   "cell_type": "markdown",
   "metadata": {
    "id": "WFtftuTvzMpf"
   },
   "source": [
    "Next, we'll fire off training!:\n",
    "\n",
    "Here, we are able to pass a number of arguments:\n",
    "\n",
    "\n",
    "1.   `img:` define input image size\n",
    "2.   `batch:` determine batch size\n",
    "1.   `epochs:` define the number of training epochs. (Note: often, 3000+ are common here!)\n",
    "2.   `data:` set the path to our yaml file\n",
    "1.   `cfg:` specify our model configuration\n",
    "2.   `weights:` specify a custom path to weights. (Note: you can download weights from the Ultralytics Google Drive folder)\n",
    "1.   `name:` result names\n",
    "2.   `batch:` determine batch size\n",
    "1.   `nosave:` only save the final checkpoint\n",
    "2.   `cache:` cache images for faster training\n",
    "\n"
   ]
  },
  {
   "cell_type": "code",
   "execution_count": null,
   "metadata": {
    "colab": {
     "base_uri": "https://localhost:8080/"
    },
    "id": "dg2RJuNZfGbz",
    "outputId": "0318f285-6cbd-4670-c2a4-ded7f7cf7b6f"
   },
   "outputs": [
    {
     "name": "stdout",
     "output_type": "stream",
     "text": [
      "/content/drive/MyDrive/PCB_Defect_Detection/yolov5\n",
      "\u001b[34m\u001b[1mtrain: \u001b[0mweights=, cfg=/content/drive/MyDrive/PCB_Defect_Detection/yolov5/models/custom_yolov5s.yaml, data=/content/drive/MyDrive/PCB_Defect_Detection/data.yaml, hyp=data/hyps/hyp.scratch-low.yaml, epochs=3, batch_size=16, imgsz=416, rect=False, resume=False, nosave=False, noval=False, noautoanchor=False, noplots=False, evolve=None, bucket=, cache=ram, image_weights=False, device=, multi_scale=False, single_cls=False, optimizer=SGD, sync_bn=False, workers=8, project=runs/train, name=yolov5s_results, exist_ok=False, quad=False, cos_lr=False, label_smoothing=0.0, patience=100, freeze=[0], save_period=-1, seed=0, local_rank=-1, entity=None, upload_dataset=False, bbox_interval=-1, artifact_alias=latest\n",
      "\u001b[34m\u001b[1mgithub: \u001b[0m⚠️ YOLOv5 is out of date by 291 commits. Use `git pull` or `git clone https://github.com/ultralytics/yolov5` to update.\n",
      "YOLOv5 🚀 v6.1-306-gfbe67e4 Python-3.7.14 torch-1.12.1+cu113 CPU\n",
      "\n",
      "\u001b[34m\u001b[1mhyperparameters: \u001b[0mlr0=0.01, lrf=0.01, momentum=0.937, weight_decay=0.0005, warmup_epochs=3.0, warmup_momentum=0.8, warmup_bias_lr=0.1, box=0.05, cls=0.5, cls_pw=1.0, obj=1.0, obj_pw=1.0, iou_t=0.2, anchor_t=4.0, fl_gamma=0.0, hsv_h=0.015, hsv_s=0.7, hsv_v=0.4, degrees=0.0, translate=0.1, scale=0.5, shear=0.0, perspective=0.0, flipud=0.0, fliplr=0.5, mosaic=1.0, mixup=0.0, copy_paste=0.0\n",
      "\u001b[34m\u001b[1mWeights & Biases: \u001b[0mrun 'pip install wandb' to automatically track and visualize YOLOv5 🚀 runs (RECOMMENDED)\n",
      "\u001b[34m\u001b[1mTensorBoard: \u001b[0mStart with 'tensorboard --logdir runs/train', view at http://localhost:6006/\n",
      "Downloading https://ultralytics.com/assets/Arial.ttf to /root/.config/Ultralytics/Arial.ttf...\n",
      "100% 755k/755k [00:00<00:00, 16.7MB/s]\n",
      "\n",
      "                 from  n    params  module                                  arguments                     \n",
      "  0                -1  1      3520  models.common.Focus                     [3, 32, 3]                    \n",
      "  1                -1  1     18560  models.common.Conv                      [32, 64, 3, 2]                \n",
      "  2                -1  1     19904  models.common.BottleneckCSP             [64, 64, 1]                   \n",
      "  3                -1  1     73984  models.common.Conv                      [64, 128, 3, 2]               \n",
      "  4                -1  3    161152  models.common.BottleneckCSP             [128, 128, 3]                 \n",
      "  5                -1  1    295424  models.common.Conv                      [128, 256, 3, 2]              \n",
      "  6                -1  3    641792  models.common.BottleneckCSP             [256, 256, 3]                 \n",
      "  7                -1  1   1180672  models.common.Conv                      [256, 512, 3, 2]              \n",
      "  8                -1  1    656896  models.common.SPP                       [512, 512, [5, 9, 13]]        \n",
      "  9                -1  1   1248768  models.common.BottleneckCSP             [512, 512, 1, False]          \n",
      " 10                -1  1    131584  models.common.Conv                      [512, 256, 1, 1]              \n",
      " 11                -1  1         0  torch.nn.modules.upsampling.Upsample    [None, 2, 'nearest']          \n",
      " 12           [-1, 6]  1         0  models.common.Concat                    [1]                           \n",
      " 13                -1  1    378624  models.common.BottleneckCSP             [512, 256, 1, False]          \n",
      " 14                -1  1     33024  models.common.Conv                      [256, 128, 1, 1]              \n",
      " 15                -1  1         0  torch.nn.modules.upsampling.Upsample    [None, 2, 'nearest']          \n",
      " 16           [-1, 4]  1         0  models.common.Concat                    [1]                           \n",
      " 17                -1  1     95104  models.common.BottleneckCSP             [256, 128, 1, False]          \n",
      " 18                -1  1    147712  models.common.Conv                      [128, 128, 3, 2]              \n",
      " 19          [-1, 14]  1         0  models.common.Concat                    [1]                           \n",
      " 20                -1  1    313088  models.common.BottleneckCSP             [256, 256, 1, False]          \n",
      " 21                -1  1    590336  models.common.Conv                      [256, 256, 3, 2]              \n",
      " 22          [-1, 10]  1         0  models.common.Concat                    [1]                           \n",
      " 23                -1  1   1248768  models.common.BottleneckCSP             [512, 512, 1, False]          \n",
      " 24      [17, 20, 23]  1     29667  models.yolo.Detect                      [6, [[10, 13, 16, 30, 33, 23], [30, 61, 62, 45, 59, 119], [116, 90, 156, 198, 373, 326]], [128, 256, 512]]\n",
      "custom_YOLOv5s summary: 283 layers, 7268579 parameters, 7268579 gradients\n",
      "\n",
      "Scaled weight_decay = 0.0005\n",
      "\u001b[34m\u001b[1moptimizer:\u001b[0m SGD with parameter groups 59 weight (no decay), 70 weight, 62 bias\n",
      "\u001b[34m\u001b[1malbumentations: \u001b[0mBlur(always_apply=False, p=0.01, blur_limit=(3, 7)), MedianBlur(always_apply=False, p=0.01, blur_limit=(3, 7)), ToGray(always_apply=False, p=0.01), CLAHE(always_apply=False, p=0.01, clip_limit=(1, 4.0), tile_grid_size=(8, 8))\n",
      "\u001b[34m\u001b[1mtrain: \u001b[0mScanning '/content/drive/MyDrive/PCB_Defect_Detection/train/labels.cache' images and labels... 4362 found, 0 missing, 4 empty, 0 corrupt: 100% 4362/4362 [00:00<?, ?it/s]\n",
      "\u001b[34m\u001b[1mtrain: \u001b[0mCaching images (2.3GB ram): 100% 4362/4362 [01:48<00:00, 40.11it/s] \n",
      "\u001b[34m\u001b[1mval: \u001b[0mScanning '/content/drive/MyDrive/PCB_Defect_Detection/val/labels.cache' images and labels... 139 found, 0 missing, 0 empty, 0 corrupt: 100% 139/139 [00:00<?, ?it/s]\n",
      "\u001b[34m\u001b[1mval: \u001b[0mCaching images (0.1GB ram): 100% 139/139 [00:01<00:00, 76.74it/s] \n",
      "Plotting labels to runs/train/yolov5s_results2/labels.jpg... \n",
      "\n",
      "\u001b[34m\u001b[1mAutoAnchor: \u001b[0m3.71 anchors/target, 0.998 Best Possible Recall (BPR). Current anchors are a good fit to dataset ✅\n",
      "Image sizes 416 train, 416 val\n",
      "Using 2 dataloader workers\n",
      "Logging results to \u001b[1mruns/train/yolov5s_results2\u001b[0m\n",
      "Starting training for 3 epochs...\n",
      "\n",
      "     Epoch   gpu_mem       box       obj       cls    labels  img_size\n",
      "       0/2        0G    0.1132   0.02592    0.0481        98       416:   1% 3/273 [00:40<58:02, 12.90s/it]  "
     ]
    }
   ],
   "source": [
    "# time its performance\n",
    "%%time\n",
    "\n",
    "%cd /content/drive/MyDrive/PCB_Defect_Detection/yolov5\n",
    "\n",
    "!python train.py --img 416 --batch 16 --epochs 3 --data '/content/drive/MyDrive/PCB_Defect_Detection/data.yaml' --cfg '/content/drive/MyDrive/PCB_Defect_Detection/yolov5/models/custom_yolov5s.yaml' --weights '' --name yolov5s_results  --cache"
   ]
  },
  {
   "cell_type": "markdown",
   "metadata": {
    "id": "x4XCOJel0bho"
   },
   "source": [
    "# Evaluate Custom YOLOv5 Detector Performance\n",
    "\n",
    "Training losses and performance metrics are saved to Tensorboard and also to a logfile defined above with the --name flag when we train. In our case, we named this yolov5s_results. (If given no name, it defaults to results.txt.) The results file is plotted as a png after training completes.\n",
    "\n",
    "\n",
    "Note from Glenn: Partially completed results.txt files can be plotted with from utils.utils import plot_results; plot_results()."
   ]
  },
  {
   "cell_type": "code",
   "execution_count": 39,
   "metadata": {
    "colab": {
     "base_uri": "https://localhost:8080/",
     "height": 822
    },
    "executionInfo": {
     "elapsed": 5650,
     "status": "ok",
     "timestamp": 1665857160173,
     "user": {
      "displayName": "Sudheesh E",
      "userId": "17406445785390498032"
     },
     "user_tz": -330
    },
    "id": "NPSyC-z60jqF",
    "outputId": "cc003372-137f-459a-ec3d-585e8402a09c"
   },
   "outputs": [
    {
     "data": {
      "application/javascript": [
       "\n",
       "        (async () => {\n",
       "            const url = new URL(await google.colab.kernel.proxyPort(6006, {'cache': true}));\n",
       "            url.searchParams.set('tensorboardColab', 'true');\n",
       "            const iframe = document.createElement('iframe');\n",
       "            iframe.src = url;\n",
       "            iframe.setAttribute('width', '100%');\n",
       "            iframe.setAttribute('height', '800');\n",
       "            iframe.setAttribute('frameborder', 0);\n",
       "            document.body.appendChild(iframe);\n",
       "        })();\n",
       "    "
      ],
      "text/plain": [
       "<IPython.core.display.Javascript object>"
      ]
     },
     "metadata": {},
     "output_type": "display_data"
    }
   ],
   "source": [
    "# Start tensorboard\n",
    "# Launch after you have started training\n",
    "# logs save in the folder \"runs\"\n",
    "%load_ext tensorboard\n",
    "%tensorboard --logdir runs"
   ]
  },
  {
   "cell_type": "code",
   "execution_count": 45,
   "metadata": {
    "colab": {
     "base_uri": "https://localhost:8080/",
     "height": 200
    },
    "executionInfo": {
     "elapsed": 5,
     "status": "error",
     "timestamp": 1665857459825,
     "user": {
      "displayName": "Sudheesh E",
      "userId": "17406445785390498032"
     },
     "user_tz": -330
    },
    "id": "y961x0aU0ugq",
    "outputId": "cb5fa388-214a-4237-8366-e0698458c61c"
   },
   "outputs": [
    {
     "ename": "TypeError",
     "evalue": "ignored",
     "output_type": "error",
     "traceback": [
      "\u001b[0;31m---------------------------------------------------------------------------\u001b[0m",
      "\u001b[0;31mTypeError\u001b[0m                                 Traceback (most recent call last)",
      "\u001b[0;32m<ipython-input-45-33185f1dbe43>\u001b[0m in \u001b[0;36m<module>\u001b[0;34m\u001b[0m\n\u001b[1;32m      1\u001b[0m \u001b[0;31m# we can also output some older school graphs if the tensor board isn't working for whatever reason...\u001b[0m\u001b[0;34m\u001b[0m\u001b[0;34m\u001b[0m\u001b[0;34m\u001b[0m\u001b[0m\n\u001b[1;32m      2\u001b[0m \u001b[0;32mfrom\u001b[0m \u001b[0mutils\u001b[0m\u001b[0;34m.\u001b[0m\u001b[0mplots\u001b[0m \u001b[0;32mimport\u001b[0m \u001b[0mplot_results\u001b[0m  \u001b[0;31m# plot results.txt as results.png\u001b[0m\u001b[0;34m\u001b[0m\u001b[0;34m\u001b[0m\u001b[0m\n\u001b[0;32m----> 3\u001b[0;31m \u001b[0mImage\u001b[0m\u001b[0;34m(\u001b[0m\u001b[0mfilename\u001b[0m\u001b[0;34m=\u001b[0m\u001b[0;34m'/content/drive/MyDrive/PCB_Defect_Detection/yolov5/runs/train/yolov5s_results/results.png'\u001b[0m\u001b[0;34m,\u001b[0m \u001b[0mwidth\u001b[0m\u001b[0;34m=\u001b[0m\u001b[0;36m1000\u001b[0m\u001b[0;34m)\u001b[0m  \u001b[0;31m# view results.png\u001b[0m\u001b[0;34m\u001b[0m\u001b[0;34m\u001b[0m\u001b[0m\n\u001b[0m",
      "\u001b[0;31mTypeError\u001b[0m: __init__() got an unexpected keyword argument 'filename'"
     ]
    }
   ],
   "source": [
    "# we can also output some older school graphs if the tensor board isn't working for whatever reason... \n",
    "from utils.plots import plot_results  # plot results.txt as results.png\n",
    "Image(filename='/content/drive/MyDrive/PCB_Defect_Detection/yolov5/runs/train/yolov5s_results/results.png', width=1000)  # view results.png\n"
   ]
  },
  {
   "cell_type": "markdown",
   "metadata": {
    "id": "hBTgespj4MRx"
   },
   "source": [
    "# Curious? Visualize Our Training Data with Labels\n",
    "\n",
    "After training starts, view train*.jpg images to see training images, labels and augmentation effects.\n",
    "\n",
    "Note a mosaic dataloader is used for training (shown below), a new dataloading concept developed by Glenn Jocher and first featured in YOLOv4."
   ]
  },
  {
   "cell_type": "code",
   "execution_count": null,
   "metadata": {
    "id": "GVXfjtQz3BEh"
   },
   "outputs": [],
   "source": [
    "# first, display our ground truth data\n",
    "print(\"GROUND TRUTH TRAINING DATA:\")\n",
    "Image(filename='/content/yolov5/runs/train/yolov5s_results/val_batch0_labels.jpg', width=900)"
   ]
  },
  {
   "cell_type": "code",
   "execution_count": null,
   "metadata": {
    "id": "S7AHfXkC4I5h"
   },
   "outputs": [],
   "source": [
    "# print out an augmented training example\n",
    "\n",
    "print(\"GROUND TRUTH AUGMENTED TRAINING DATA:\")\n",
    "Image(filename='/content/yolov5/runs/train/yolov5s_results/train_batch0.jpg', width=900)"
   ]
  },
  {
   "cell_type": "markdown",
   "metadata": {
    "id": "A6LbLvGH4YWk"
   },
   "source": [
    "# Run Inference With Trained Weights\n",
    "\n",
    "Run inference with a pretrained checkpoint on contents of test/images folder"
   ]
  },
  {
   "cell_type": "code",
   "execution_count": null,
   "metadata": {
    "id": "9B8uWczx4fsT"
   },
   "outputs": [],
   "source": [
    "# trained weights are saved by default in our weights folder\n",
    "%ls runs/"
   ]
  },
  {
   "cell_type": "code",
   "execution_count": null,
   "metadata": {
    "id": "K6m_vg084jpx"
   },
   "outputs": [],
   "source": [
    "%ls runs/train/yolov5s_results/weights"
   ]
  },
  {
   "cell_type": "code",
   "execution_count": null,
   "metadata": {
    "id": "aCf5qUmo4l_f"
   },
   "outputs": [],
   "source": [
    "# when we ran this, we saw .007 second inference time. That is 140 FPS on a TESLA P100!\n",
    "# use the best weights!\n",
    "%cd /content/yolov5/\n",
    "python detect.py --weights D:/Ineuron/Project_workshop/pcb_defect_detection/Weights/best.pt --img 416 --conf 0.8 --source D:/Ineuron/Project_workshop/pcb_defect_detection/delete/train_val_test/train_val_test/val/images"
   ]
  },
  {
   "cell_type": "code",
   "execution_count": null,
   "metadata": {
    "id": "OqBUb62b4qOB"
   },
   "outputs": [],
   "source": [
    "#display inference on ALL test images\n",
    "#this looks much better with longer training above\n",
    "\n",
    "import glob\n",
    "from IPython.display import Image, display\n",
    "\n",
    "for imageName in glob.glob('/content/yolov5/runs/detect/exp2*.jpg'): #assuming JPG\n",
    "    display(Image(filename=imageName))\n",
    "    print(\"\\n\")"
   ]
  },
  {
   "cell_type": "markdown",
   "metadata": {
    "id": "RP5hdbu94sIo"
   },
   "source": [
    "# Export Trained Weights for Future Inference\n",
    "\n",
    "Now that you have trained your custom detector, you can export the trained weights you have made here for inference on your device elsewhere"
   ]
  },
  {
   "cell_type": "code",
   "execution_count": null,
   "metadata": {
    "id": "l24NjauU4vBa"
   },
   "outputs": [],
   "source": [
    "from google.colab import drive\n",
    "drive.mount('/content/gdrive')"
   ]
  },
  {
   "cell_type": "code",
   "execution_count": null,
   "metadata": {
    "id": "dgT3Frcb4xj1"
   },
   "outputs": [],
   "source": [
    "%cp /content/yolov5/runs/train/yolov5s_results/weights/best.pt /content/gdrive/MyDrive/Research/SignLanguageDetection"
   ]
  },
  {
   "cell_type": "markdown",
   "metadata": {
    "id": "ImYI6xx-47vc"
   },
   "source": [
    "# Reference blogs\n",
    "\n",
    "- https://towardsdatascience.com/how-to-train-a-custom-object-detection-model-with-yolo-v5-917e9ce13208\n",
    "\n",
    "- https://github.com/entbappy/Sign-Language-Generation-From-Video-using-YOLOV5\n",
    "\n"
   ]
  },
  {
   "cell_type": "code",
   "execution_count": null,
   "metadata": {
    "id": "z-PNR0MH5LAE"
   },
   "outputs": [],
   "source": []
  }
 ],
 "metadata": {
  "accelerator": "GPU",
  "colab": {
   "authorship_tag": "ABX9TyPMVJJRiLWy4SuSerX+kPXQ",
   "collapsed_sections": [],
   "mount_file_id": "1YngeyUaMZRGDhD8mHJJdLjEG1nsp0c39",
   "provenance": []
  },
  "kernelspec": {
   "display_name": "Python 3 (ipykernel)",
   "language": "python",
   "name": "python3"
  },
  "language_info": {
   "codemirror_mode": {
    "name": "ipython",
    "version": 3
   },
   "file_extension": ".py",
   "mimetype": "text/x-python",
   "name": "python",
   "nbconvert_exporter": "python",
   "pygments_lexer": "ipython3",
   "version": "3.7.13"
  }
 },
 "nbformat": 4,
 "nbformat_minor": 1
}
