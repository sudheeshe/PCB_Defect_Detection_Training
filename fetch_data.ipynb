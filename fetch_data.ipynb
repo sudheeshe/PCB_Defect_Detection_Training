{
 "cells": [
  {
   "cell_type": "code",
   "execution_count": 1,
   "id": "dda830bd",
   "metadata": {},
   "outputs": [
    {
     "name": "stdout",
     "output_type": "stream",
     "text": [
      "loading Roboflow workspace...\n",
      "loading Roboflow project...\n",
      "Downloading Dataset Version Zip in PCB-Defect-YoloV5-Deepstream-6.0-2 to yolov5pytorch: 100% [20963227 / 20963227] bytes\n"
     ]
    },
    {
     "name": "stderr",
     "output_type": "stream",
     "text": [
      "Extracting Dataset Version Zip to PCB-Defect-YoloV5-Deepstream-6.0-2 in yolov5pytorch:: 100%|█████████████████████████████████████████████████████| 1398/1398 [00:01<00:00, 900.56it/s]\n"
     ]
    }
   ],
   "source": [
    "from roboflow import Roboflow\n",
    "rf = Roboflow(api_key=\"UexS2wDYgkC64r7Zdy4X\")\n",
    "project = rf.workspace(\"new-workspace-cfyg7\").project(\"pcb-defect-yolov5-deepstream-6.0\")\n",
    "dataset = project.version(2).download(\"yolov5\")"
   ]
  },
  {
   "cell_type": "code",
   "execution_count": null,
   "id": "576f10e9",
   "metadata": {},
   "outputs": [],
   "source": []
  }
 ],
 "metadata": {
  "kernelspec": {
   "display_name": "Python 3 (ipykernel)",
   "language": "python",
   "name": "python3"
  },
  "language_info": {
   "codemirror_mode": {
    "name": "ipython",
    "version": 3
   },
   "file_extension": ".py",
   "mimetype": "text/x-python",
   "name": "python",
   "nbconvert_exporter": "python",
   "pygments_lexer": "ipython3",
   "version": "3.7.13"
  }
 },
 "nbformat": 4,
 "nbformat_minor": 5
}
